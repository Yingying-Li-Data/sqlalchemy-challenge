{
 "cells": [
  {
   "cell_type": "code",
   "execution_count": 1,
   "id": "fb6fd4c6-09d1-45f9-932e-163e470364db",
   "metadata": {},
   "outputs": [],
   "source": [
    "%matplotlib inline\n",
    "from matplotlib import style\n",
    "style.use('fivethirtyeight')\n",
    "import matplotlib.pyplot as plt"
   ]
  },
  {
   "cell_type": "code",
   "execution_count": 2,
   "id": "835dab05-7741-4ae3-b214-0493285714ab",
   "metadata": {},
   "outputs": [],
   "source": [
    "import numpy as np\n",
    "import pandas as pd\n",
    "import datetime as dt"
   ]
  },
  {
   "cell_type": "markdown",
   "id": "af1b474b-c308-4277-9205-d54030fc3756",
   "metadata": {},
   "source": [
    "# Reflect Tables into SQLAlchemy ORM"
   ]
  },
  {
   "cell_type": "code",
   "execution_count": 3,
   "id": "6cedc074-f206-4a12-8945-ca79afbed6a1",
   "metadata": {},
   "outputs": [],
   "source": [
    "# Python SQL toolkit and Object Relational Mapper\n",
    "import sqlalchemy\n",
    "from sqlalchemy.ext.automap import automap_base\n",
    "from sqlalchemy.orm import Session\n",
    "from sqlalchemy import create_engine, func, inspect"
   ]
  },
  {
   "cell_type": "code",
   "execution_count": 4,
   "id": "98fbc785-b165-41de-8fc0-da3f2d9ca806",
   "metadata": {},
   "outputs": [],
   "source": [
    "# create engine to hawaii.sqlite\n",
    "engine = create_engine(\"sqlite:///../static/Resources/hawaii.sqlite\")"
   ]
  },
  {
   "cell_type": "code",
   "execution_count": 5,
   "id": "d442d327-ee08-47ed-8c09-f83366ddf0e8",
   "metadata": {},
   "outputs": [],
   "source": [
    "# reflect an existing database into a new model\n",
    "Base = automap_base()\n",
    "\n",
    "# reflect the tables\n",
    "Base.prepare(engine, reflect=True)"
   ]
  },
  {
   "cell_type": "code",
   "execution_count": 6,
   "id": "5e026e80-f082-41cf-869a-c531eb08e8ca",
   "metadata": {},
   "outputs": [
    {
     "data": {
      "text/plain": [
       "['measurement', 'station']"
      ]
     },
     "execution_count": 6,
     "metadata": {},
     "output_type": "execute_result"
    }
   ],
   "source": [
    "# View all of the classes that automap found\n",
    "Base.classes.keys()"
   ]
  },
  {
   "cell_type": "code",
   "execution_count": 7,
   "id": "7576ea6e-da72-4296-9966-e34bfb7c72fa",
   "metadata": {},
   "outputs": [],
   "source": [
    "# Save references to each table\n",
    "Measurement = Base.classes.measurement\n",
    "Station = Base.classes.station"
   ]
  },
  {
   "cell_type": "code",
   "execution_count": 8,
   "id": "445ab6a6-10b4-4115-9f05-6106ea339bcb",
   "metadata": {},
   "outputs": [],
   "source": [
    "# Create our session (link) from Python to the DB\n",
    "session = Session(engine)"
   ]
  },
  {
   "cell_type": "markdown",
   "id": "28e54b65-098f-42fc-b6b6-0359b092a839",
   "metadata": {},
   "source": [
    "# Exploratory Precipitation Analysis¶"
   ]
  },
  {
   "cell_type": "code",
   "execution_count": 9,
   "id": "191d5868-980c-4d98-82d9-0e36d4d00e40",
   "metadata": {},
   "outputs": [
    {
     "data": {
      "text/plain": [
       "{'_sa_instance_state': <sqlalchemy.orm.state.InstanceState at 0x149c530a130>,\n",
       " 'date': '2010-01-01',\n",
       " 'tobs': 65.0,\n",
       " 'id': 1,\n",
       " 'station': 'USC00519397',\n",
       " 'prcp': 0.08}"
      ]
     },
     "execution_count": 9,
     "metadata": {},
     "output_type": "execute_result"
    }
   ],
   "source": [
    "# Find the datatable that has date. \n",
    "measurement_row = session.query(Measurement).first()\n",
    "station_row = session.query(Station).first()\n",
    "\n",
    "# Looking at Measurement\n",
    "measurement_row.__dict__"
   ]
  },
  {
   "cell_type": "code",
   "execution_count": 10,
   "id": "6612225e-5251-4445-83c8-61bc50ea4071",
   "metadata": {},
   "outputs": [
    {
     "data": {
      "text/plain": [
       "{'_sa_instance_state': <sqlalchemy.orm.state.InstanceState at 0x149c53170d0>,\n",
       " 'longitude': -157.8168,\n",
       " 'name': 'WAIKIKI 717.2, HI US',\n",
       " 'station': 'USC00519397',\n",
       " 'id': 1,\n",
       " 'latitude': 21.2716,\n",
       " 'elevation': 3.0}"
      ]
     },
     "execution_count": 10,
     "metadata": {},
     "output_type": "execute_result"
    }
   ],
   "source": [
    "# Looking at Station\n",
    "station_row.__dict__"
   ]
  },
  {
   "cell_type": "code",
   "execution_count": 11,
   "id": "cf079d89-d84a-4fdd-924e-bf17870938f0",
   "metadata": {},
   "outputs": [],
   "source": [
    "# Measurement table has the dates, which order are the dates listed?\n",
    "# session.query(Measurement.date).all()"
   ]
  },
  {
   "cell_type": "markdown",
   "id": "da464ac8-4d0d-4366-8e29-a08613023b53",
   "metadata": {},
   "source": [
    "### Design a query to retrieve the last 12 months of precipitation data and plot the results. "
   ]
  },
  {
   "cell_type": "code",
   "execution_count": 12,
   "id": "dc1d8861-3cd9-4e16-90ca-c1ae05aac027",
   "metadata": {},
   "outputs": [
    {
     "name": "stdout",
     "output_type": "stream",
     "text": [
      "('2017-08-23',)\n"
     ]
    }
   ],
   "source": [
    "# Starting from the most recent data point in the database.\n",
    "most_recent_date = session.query(Measurement.date).order_by(Measurement.date.desc()).first()\n",
    "print(most_recent_date)"
   ]
  },
  {
   "cell_type": "code",
   "execution_count": 13,
   "id": "c6d6b0c0-9163-4082-a57e-5c437378d2eb",
   "metadata": {},
   "outputs": [
    {
     "name": "stdout",
     "output_type": "stream",
     "text": [
      "2016-08-23\n"
     ]
    }
   ],
   "source": [
    "# Calculate the date one year from the last date in data set.\n",
    "query_date = dt.date(2017, 8, 23) - dt.timedelta(days=365)\n",
    "print(query_date)"
   ]
  },
  {
   "cell_type": "markdown",
   "id": "7fea04ba-2170-42e9-9943-5e1d1d938d2c",
   "metadata": {},
   "source": [
    "### Query, Order, and Clean Date and Precipitation Values."
   ]
  },
  {
   "cell_type": "code",
   "execution_count": 14,
   "id": "ebdf81ad-86ed-43fb-9db7-012f1bf9a82c",
   "metadata": {},
   "outputs": [],
   "source": [
    "# Perform a query to retrieve the date and precipitation scores.\n",
    "# Sorted by date and rows with no measurements are removed.\n",
    "prcp = session.query(Measurement.date, Measurement.prcp).\\\n",
    "    filter(Measurement.date >= query_date).\\\n",
    "    order_by(Measurement.date).\\\n",
    "    filter(Measurement.prcp >= 0.0).all()\n",
    "#prcp"
   ]
  },
  {
   "cell_type": "markdown",
   "id": "a60b9128-92a9-4194-97e9-3f0938ad569f",
   "metadata": {},
   "source": [
    "### Create DataFrame from the Tables"
   ]
  },
  {
   "cell_type": "code",
   "execution_count": 15,
   "id": "8ea7fc0f-402b-4fc3-9ea7-db205c89bc67",
   "metadata": {},
   "outputs": [
    {
     "data": {
      "text/html": [
       "<div>\n",
       "<style scoped>\n",
       "    .dataframe tbody tr th:only-of-type {\n",
       "        vertical-align: middle;\n",
       "    }\n",
       "\n",
       "    .dataframe tbody tr th {\n",
       "        vertical-align: top;\n",
       "    }\n",
       "\n",
       "    .dataframe thead th {\n",
       "        text-align: right;\n",
       "    }\n",
       "</style>\n",
       "<table border=\"1\" class=\"dataframe\">\n",
       "  <thead>\n",
       "    <tr style=\"text-align: right;\">\n",
       "      <th></th>\n",
       "      <th>Precipitation</th>\n",
       "    </tr>\n",
       "    <tr>\n",
       "      <th>Date</th>\n",
       "      <th></th>\n",
       "    </tr>\n",
       "  </thead>\n",
       "  <tbody>\n",
       "    <tr>\n",
       "      <th>2016-08-23</th>\n",
       "      <td>0.00</td>\n",
       "    </tr>\n",
       "    <tr>\n",
       "      <th>2016-08-23</th>\n",
       "      <td>0.15</td>\n",
       "    </tr>\n",
       "    <tr>\n",
       "      <th>2016-08-23</th>\n",
       "      <td>0.05</td>\n",
       "    </tr>\n",
       "    <tr>\n",
       "      <th>2016-08-23</th>\n",
       "      <td>0.02</td>\n",
       "    </tr>\n",
       "    <tr>\n",
       "      <th>2016-08-23</th>\n",
       "      <td>1.79</td>\n",
       "    </tr>\n",
       "    <tr>\n",
       "      <th>2016-08-23</th>\n",
       "      <td>0.70</td>\n",
       "    </tr>\n",
       "    <tr>\n",
       "      <th>2016-08-24</th>\n",
       "      <td>0.08</td>\n",
       "    </tr>\n",
       "    <tr>\n",
       "      <th>2016-08-24</th>\n",
       "      <td>2.15</td>\n",
       "    </tr>\n",
       "    <tr>\n",
       "      <th>2016-08-24</th>\n",
       "      <td>2.28</td>\n",
       "    </tr>\n",
       "    <tr>\n",
       "      <th>2016-08-24</th>\n",
       "      <td>1.22</td>\n",
       "    </tr>\n",
       "  </tbody>\n",
       "</table>\n",
       "</div>"
      ],
      "text/plain": [
       "            Precipitation\n",
       "Date                     \n",
       "2016-08-23           0.00\n",
       "2016-08-23           0.15\n",
       "2016-08-23           0.05\n",
       "2016-08-23           0.02\n",
       "2016-08-23           1.79\n",
       "2016-08-23           0.70\n",
       "2016-08-24           0.08\n",
       "2016-08-24           2.15\n",
       "2016-08-24           2.28\n",
       "2016-08-24           1.22"
      ]
     },
     "execution_count": 15,
     "metadata": {},
     "output_type": "execute_result"
    }
   ],
   "source": [
    "# Save the query results as a Pandas DataFrame and set the index to the date column\n",
    "precipitation_df = pd.DataFrame(prcp, columns=['Date', 'Precipitation'])\n",
    "precipitation_df.set_index('Date', inplace=True)\n",
    "precipitation_df.head(10)\n",
    "#precipitation_df.count()"
   ]
  },
  {
   "cell_type": "markdown",
   "id": "80a4a2db-b51c-40f6-a55c-50b77ce25999",
   "metadata": {},
   "source": [
    "### Plot DataFrame"
   ]
  },
  {
   "cell_type": "code",
   "execution_count": 16,
   "id": "ea742865-0f9c-4b6c-a6b6-b7dbf0d6a1d5",
   "metadata": {},
   "outputs": [
    {
     "data": {
      "image/png": "[encoded data removed]",
      "text/plain": [
       "<Figure size 720x360 with 1 Axes>"
      ]
     },
     "metadata": {},
     "output_type": "display_data"
    }
   ],
   "source": [
    "# Use Pandas Plotting with Matplotlib to plot the data\n",
    "precipitation_df.plot(title=\"Precipitation Analysis\", ylabel=\"Precipitation(Inches)\",  figsize=(10,5), rot=90)\n",
    "# plt.savefig(\"precipitation_analysis.png\")\n",
    "plt.show()"
   ]
  },
  {
   "cell_type": "markdown",
   "id": "8aada148-30a5-43f8-b9d1-183cb4a69a9d",
   "metadata": {},
   "source": [
    "### Summary Statistics "
   ]
  },
  {
   "cell_type": "code",
   "execution_count": 17,
   "id": "f7ed2e00-0e6b-4642-a3d1-649de3309f2d",
   "metadata": {},
   "outputs": [
    {
     "data": {
      "text/html": [
       "<div>\n",
       "<style scoped>\n",
       "    .dataframe tbody tr th:only-of-type {\n",
       "        vertical-align: middle;\n",
       "    }\n",
       "\n",
       "    .dataframe tbody tr th {\n",
       "        vertical-align: top;\n",
       "    }\n",
       "\n",
       "    .dataframe thead th {\n",
       "        text-align: right;\n",
       "    }\n",
       "</style>\n",
       "<table border=\"1\" class=\"dataframe\">\n",
       "  <thead>\n",
       "    <tr style=\"text-align: right;\">\n",
       "      <th></th>\n",
       "      <th>Precipitation</th>\n",
       "    </tr>\n",
       "  </thead>\n",
       "  <tbody>\n",
       "    <tr>\n",
       "      <th>count</th>\n",
       "      <td>2021.000000</td>\n",
       "    </tr>\n",
       "    <tr>\n",
       "      <th>mean</th>\n",
       "      <td>0.177279</td>\n",
       "    </tr>\n",
       "    <tr>\n",
       "      <th>std</th>\n",
       "      <td>0.461190</td>\n",
       "    </tr>\n",
       "    <tr>\n",
       "      <th>min</th>\n",
       "      <td>0.000000</td>\n",
       "    </tr>\n",
       "    <tr>\n",
       "      <th>25%</th>\n",
       "      <td>0.000000</td>\n",
       "    </tr>\n",
       "    <tr>\n",
       "      <th>50%</th>\n",
       "      <td>0.020000</td>\n",
       "    </tr>\n",
       "    <tr>\n",
       "      <th>75%</th>\n",
       "      <td>0.130000</td>\n",
       "    </tr>\n",
       "    <tr>\n",
       "      <th>max</th>\n",
       "      <td>6.700000</td>\n",
       "    </tr>\n",
       "  </tbody>\n",
       "</table>\n",
       "</div>"
      ],
      "text/plain": [
       "       Precipitation\n",
       "count    2021.000000\n",
       "mean        0.177279\n",
       "std         0.461190\n",
       "min         0.000000\n",
       "25%         0.000000\n",
       "50%         0.020000\n",
       "75%         0.130000\n",
       "max         6.700000"
      ]
     },
     "execution_count": 17,
     "metadata": {},
     "output_type": "execute_result"
    }
   ],
   "source": [
    "# Use Pandas to calcualte the summary statistics for the precipitation data\n",
    "precipitation_df.describe()"
   ]
  },
  {
   "cell_type": "markdown",
   "id": "8b018533-b9d0-4e09-9d70-724a0df921f9",
   "metadata": {},
   "source": [
    "# Exploratory Station Analysis"
   ]
  },
  {
   "cell_type": "code",
   "execution_count": 18,
   "id": "e4f4a4e8-1dbb-4961-a35a-1fcb5af6fa36",
   "metadata": {},
   "outputs": [
    {
     "data": {
      "text/plain": [
       "['measurement', 'station']"
      ]
     },
     "execution_count": 18,
     "metadata": {},
     "output_type": "execute_result"
    }
   ],
   "source": [
    "# Table names for quick reference.\n",
    "inspector = inspect(engine)\n",
    "inspector.get_table_names()"
   ]
  },
  {
   "cell_type": "code",
   "execution_count": 19,
   "id": "7984c499-5d8e-4bd7-94b1-f608ca3989c3",
   "metadata": {},
   "outputs": [
    {
     "name": "stdout",
     "output_type": "stream",
     "text": [
      "id\n",
      "station\n",
      "name\n",
      "latitude\n",
      "longitude\n",
      "elevation\n"
     ]
    }
   ],
   "source": [
    "# Column names, quick reference (station).\n",
    "columns = inspector.get_columns('station')\n",
    "for c in columns:\n",
    "    print(c['name'])"
   ]
  },
  {
   "cell_type": "code",
   "execution_count": 20,
   "id": "75d66ed1-7846-447e-8459-2c4ebf7b3c25",
   "metadata": {},
   "outputs": [
    {
     "name": "stdout",
     "output_type": "stream",
     "text": [
      "id\n",
      "station\n",
      "date\n",
      "prcp\n",
      "tobs\n"
     ]
    }
   ],
   "source": [
    "# Column names, quick reference (measurement).\n",
    "columns = inspector.get_columns('measurement')\n",
    "for c in columns:\n",
    "    print(c['name'])"
   ]
  },
  {
   "cell_type": "markdown",
   "id": "3ded9a04-fd41-4434-aff0-3174eb387b7a",
   "metadata": {},
   "source": [
    "### Total number of Stations"
   ]
  },
  {
   "cell_type": "code",
   "execution_count": 21,
   "id": "c5d65f1f-2bf9-4155-87fa-809ccc4b531f",
   "metadata": {},
   "outputs": [
    {
     "data": {
      "text/plain": [
       "9"
      ]
     },
     "execution_count": 21,
     "metadata": {},
     "output_type": "execute_result"
    }
   ],
   "source": [
    "# Query to calculate the total number stations in the dataset\n",
    "stations = session.query(Station.station).count()\n",
    "stations"
   ]
  },
  {
   "cell_type": "code",
   "execution_count": 22,
   "id": "4e970097-371a-4ecc-9fde-fa09cf55b9ae",
   "metadata": {},
   "outputs": [
    {
     "data": {
      "text/plain": [
       "9"
      ]
     },
     "execution_count": 22,
     "metadata": {},
     "output_type": "execute_result"
    }
   ],
   "source": [
    "# Confirm in Measurement Table\n",
    "stations = session.query(Measurement.station).group_by(Measurement.station).count()\n",
    "stations"
   ]
  },
  {
   "cell_type": "markdown",
   "id": "69b9775c-2fbe-4580-9fe8-5c26984d619c",
   "metadata": {},
   "source": [
    "### Station Numbers"
   ]
  },
  {
   "cell_type": "code",
   "execution_count": 23,
   "id": "d15a37fb-a1a4-4f2d-9bf2-57117f8826a5",
   "metadata": {},
   "outputs": [
    {
     "data": {
      "text/plain": [
       "[('USC00511918',),\n",
       " ('USC00513117',),\n",
       " ('USC00514830',),\n",
       " ('USC00516128',),\n",
       " ('USC00517948',),\n",
       " ('USC00518838',),\n",
       " ('USC00519281',),\n",
       " ('USC00519397',),\n",
       " ('USC00519523',)]"
      ]
     },
     "execution_count": 23,
     "metadata": {},
     "output_type": "execute_result"
    }
   ],
   "source": [
    "# List all 9 stations\n",
    "station_list = session.query(Measurement.station).group_by(Measurement.station).all()\n",
    "station_list"
   ]
  },
  {
   "cell_type": "markdown",
   "id": "234a0afe-5b5b-4151-b025-fafb46047990",
   "metadata": {},
   "source": [
    "### Station Activity (Descending)"
   ]
  },
  {
   "cell_type": "code",
   "execution_count": 24,
   "id": "d3f92153-43d0-42d8-b424-f9f6ae32cf74",
   "metadata": {},
   "outputs": [
    {
     "data": {
      "text/plain": [
       "[('USC00519281', 2772),\n",
       " ('USC00519397', 2724),\n",
       " ('USC00513117', 2709),\n",
       " ('USC00519523', 2669),\n",
       " ('USC00516128', 2612),\n",
       " ('USC00514830', 2202),\n",
       " ('USC00511918', 1979),\n",
       " ('USC00517948', 1372),\n",
       " ('USC00518838', 511)]"
      ]
     },
     "execution_count": 24,
     "metadata": {},
     "output_type": "execute_result"
    }
   ],
   "source": [
    "# Design a query to find the most active stations \n",
    "# (i.e. what stations have the most rows?)\n",
    "# List the stations and the counts in descending order.\n",
    "most_active = session.query(Measurement.station, func.count(Measurement.station)).\\\n",
    "    group_by(Measurement.station).\\\n",
    "    order_by(func.count(Measurement.station).desc()).all()\n",
    "most_active"
   ]
  },
  {
   "cell_type": "code",
   "execution_count": 25,
   "id": "00f158bd-13f7-44b4-b3e3-1f220ec07560",
   "metadata": {},
   "outputs": [
    {
     "data": {
      "text/plain": [
       "('USC00519281',)"
      ]
     },
     "execution_count": 25,
     "metadata": {},
     "output_type": "execute_result"
    }
   ],
   "source": [
    "# Single out that station as a variable\n",
    "most_active_station = session.query(Measurement.station).\\\n",
    "    group_by(Measurement.station).\\\n",
    "    order_by(func.count(Measurement.station).desc()).first()\n",
    "most_active_station"
   ]
  },
  {
   "cell_type": "markdown",
   "id": "c8d81290-a32f-49c8-aacc-bd4be80cacda",
   "metadata": {},
   "source": [
    "## Most Active Station: USC00519281"
   ]
  },
  {
   "cell_type": "markdown",
   "id": "365172e3-fcfa-41c8-83cb-c998134ea447",
   "metadata": {},
   "source": [
    "### Minimum Temperature(F) Measured by This Station"
   ]
  },
  {
   "cell_type": "code",
   "execution_count": 26,
   "id": "14c4acb5-ff46-4866-8651-ab6ae470ee78",
   "metadata": {},
   "outputs": [
    {
     "data": {
      "text/plain": [
       "('USC00519281', '2013-01-16', 54.0)"
      ]
     },
     "execution_count": 26,
     "metadata": {},
     "output_type": "execute_result"
    }
   ],
   "source": [
    "# Using the most active station id from the previous query, (my data: USC00519281)\n",
    "# calculate the lowest, highest, and average temperature.\n",
    "most_active_station_min = session.query(Measurement.station, Measurement.date, func.min(Measurement.tobs)).group_by(Measurement.station).\\\n",
    "    order_by(func.count(Measurement.station).desc()).first()\n",
    "most_active_station_min"
   ]
  },
  {
   "cell_type": "markdown",
   "id": "363f2f24-a59f-4a65-80f9-a77ec7eb429b",
   "metadata": {},
   "source": [
    "### Maximum Temperature(F) Measured by This Station"
   ]
  },
  {
   "cell_type": "code",
   "execution_count": 27,
   "id": "a8407d9a-1dbc-4574-9912-6ecf8acf5616",
   "metadata": {},
   "outputs": [
    {
     "data": {
      "text/plain": [
       "('USC00519281', '2015-09-10', 85.0)"
      ]
     },
     "execution_count": 27,
     "metadata": {},
     "output_type": "execute_result"
    }
   ],
   "source": [
    "most_active_station_max = session.query(Measurement.station, Measurement.date, func.max(Measurement.tobs)).group_by(Measurement.station).\\\n",
    "    order_by(func.count(Measurement.station).desc()).first()\n",
    "most_active_station_max"
   ]
  },
  {
   "cell_type": "markdown",
   "id": "a8f4f8af-c6bc-4827-bf69-53757befbcc5",
   "metadata": {},
   "source": [
    "### Average Temperature(F) Measured by This Station"
   ]
  },
  {
   "cell_type": "code",
   "execution_count": 28,
   "id": "6a464071-1a47-4b4b-aabb-59d1a768e4ff",
   "metadata": {},
   "outputs": [
    {
     "data": {
      "text/plain": [
       "('USC00519281', '2010-01-01', 71.66378066378067)"
      ]
     },
     "execution_count": 28,
     "metadata": {},
     "output_type": "execute_result"
    }
   ],
   "source": [
    "session.query(Measurement.station, func.avg(Measurement.tobs)).all()\n",
    "most_active_station_avg = session.query(Measurement.station, Measurement.date, func.avg(Measurement.tobs)).group_by(Measurement.station).\\\n",
    "    order_by(func.count(Measurement.station).desc()).first()\n",
    "most_active_station_avg"
   ]
  },
  {
   "cell_type": "markdown",
   "id": "b86378b1-f997-45d1-b4cd-81eba51193ba",
   "metadata": {},
   "source": [
    "## Average Temperature Measured by Station USC00519281 From 08-23-2016 To 08-23-2017"
   ]
  },
  {
   "cell_type": "code",
   "execution_count": 35,
   "id": "6f8c02b4-91cb-4b6b-b1a4-b632fa5d638c",
   "metadata": {},
   "outputs": [
    {
     "data": {
      "text/html": [
       "<div>\n",
       "<style scoped>\n",
       "    .dataframe tbody tr th:only-of-type {\n",
       "        vertical-align: middle;\n",
       "    }\n",
       "\n",
       "    .dataframe tbody tr th {\n",
       "        vertical-align: top;\n",
       "    }\n",
       "\n",
       "    .dataframe thead th {\n",
       "        text-align: right;\n",
       "    }\n",
       "</style>\n",
       "<table border=\"1\" class=\"dataframe\">\n",
       "  <thead>\n",
       "    <tr style=\"text-align: right;\">\n",
       "      <th></th>\n",
       "      <th>Date</th>\n",
       "      <th>Temperature(F)</th>\n",
       "    </tr>\n",
       "  </thead>\n",
       "  <tbody>\n",
       "    <tr>\n",
       "      <th>0</th>\n",
       "      <td>2016-08-23</td>\n",
       "      <td>77.0</td>\n",
       "    </tr>\n",
       "    <tr>\n",
       "      <th>1</th>\n",
       "      <td>2016-08-24</td>\n",
       "      <td>77.0</td>\n",
       "    </tr>\n",
       "    <tr>\n",
       "      <th>2</th>\n",
       "      <td>2016-08-25</td>\n",
       "      <td>80.0</td>\n",
       "    </tr>\n",
       "    <tr>\n",
       "      <th>3</th>\n",
       "      <td>2016-08-26</td>\n",
       "      <td>80.0</td>\n",
       "    </tr>\n",
       "    <tr>\n",
       "      <th>4</th>\n",
       "      <td>2016-08-27</td>\n",
       "      <td>75.0</td>\n",
       "    </tr>\n",
       "    <tr>\n",
       "      <th>...</th>\n",
       "      <td>...</td>\n",
       "      <td>...</td>\n",
       "    </tr>\n",
       "    <tr>\n",
       "      <th>347</th>\n",
       "      <td>2017-08-14</td>\n",
       "      <td>77.0</td>\n",
       "    </tr>\n",
       "    <tr>\n",
       "      <th>348</th>\n",
       "      <td>2017-08-15</td>\n",
       "      <td>77.0</td>\n",
       "    </tr>\n",
       "    <tr>\n",
       "      <th>349</th>\n",
       "      <td>2017-08-16</td>\n",
       "      <td>76.0</td>\n",
       "    </tr>\n",
       "    <tr>\n",
       "      <th>350</th>\n",
       "      <td>2017-08-17</td>\n",
       "      <td>76.0</td>\n",
       "    </tr>\n",
       "    <tr>\n",
       "      <th>351</th>\n",
       "      <td>2017-08-18</td>\n",
       "      <td>79.0</td>\n",
       "    </tr>\n",
       "  </tbody>\n",
       "</table>\n",
       "<p>352 rows × 2 columns</p>\n",
       "</div>"
      ],
      "text/plain": [
       "           Date  Temperature(F)\n",
       "0    2016-08-23            77.0\n",
       "1    2016-08-24            77.0\n",
       "2    2016-08-25            80.0\n",
       "3    2016-08-26            80.0\n",
       "4    2016-08-27            75.0\n",
       "..          ...             ...\n",
       "347  2017-08-14            77.0\n",
       "348  2017-08-15            77.0\n",
       "349  2017-08-16            76.0\n",
       "350  2017-08-17            76.0\n",
       "351  2017-08-18            79.0\n",
       "\n",
       "[352 rows x 2 columns]"
      ]
     },
     "execution_count": 35,
     "metadata": {},
     "output_type": "execute_result"
    }
   ],
   "source": [
    "# Using the most active station id (my data: USC00519281)\n",
    "# Query the last 12 months of temperature observation data for this station. \n",
    "\n",
    "\n",
    "temp_data = session.query(Measurement.date, Measurement.tobs).\\\n",
    "    filter(Measurement.date >= query_date).\\\n",
    "    filter(Measurement.station == most_active_station[0]).\\\n",
    "    order_by(Measurement.date).all()\n",
    "temp_data\n",
    "temp_data_df = pd.DataFrame(temp_data, columns=['Date', 'Temperature(F)'])\n",
    "temp_data_df"
   ]
  },
  {
   "cell_type": "markdown",
   "id": "b5fe3540-7777-49c0-b016-a76a0d08b32e",
   "metadata": {},
   "source": [
    "## Histogram of Queried Temperature Data"
   ]
  },
  {
   "cell_type": "code",
   "execution_count": 36,
   "id": "921287ef-5dce-4751-a4e1-f213e51c22f9",
   "metadata": {},
   "outputs": [
    {
     "data": {
      "image/png": "[encoded data removed]",
      "text/plain": [
       "<Figure size 432x288 with 1 Axes>"
      ]
     },
     "metadata": {},
     "output_type": "display_data"
    }
   ],
   "source": [
    "# Plot as a histogram\n",
    "plt.hist(temp_data_df['Temperature(F)'],bins=12,ec='black')\n",
    "\n",
    "# Give it some titles.  \n",
    "plt.title(\"Temperature Frequency Analysis\")\n",
    "plt.xlabel(\"Temperature(F)\")\n",
    "plt.ylabel(\"Frequency\")\n",
    "# plt.savefig(\"temperature_frequency_analysis.png\")\n",
    "plt.show()"
   ]
  },
  {
   "cell_type": "markdown",
   "id": "5accea26-20ab-4176-9960-8bf8b350f3f6",
   "metadata": {},
   "source": [
    "### Close Session"
   ]
  },
  {
   "cell_type": "code",
   "execution_count": 37,
   "id": "9f716380-4479-4cad-b4a0-3034ff531cf0",
   "metadata": {},
   "outputs": [],
   "source": [
    "# Close Session\n",
    "session.close()"
   ]
  },
  {
   "cell_type": "code",
   "execution_count": null,
   "id": "71f70521-48f1-448d-987e-90ff1d42756c",
   "metadata": {},
   "outputs": [],
   "source": []
  }
 ],
 "metadata": {
  "kernelspec": {
   "display_name": "Python 3",
   "language": "python",
   "name": "python3"
  },
  "language_info": {
   "codemirror_mode": {
    "name": "ipython",
    "version": 3
   },
   "file_extension": ".py",
   "mimetype": "text/x-python",
   "name": "python",
   "nbconvert_exporter": "python",
   "pygments_lexer": "ipython3",
   "version": "3.8.8"
  },
  "toc-autonumbering": true
 },
 "nbformat": 4,
 "nbformat_minor": 5
}
